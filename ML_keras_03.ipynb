{
  "nbformat": 4,
  "nbformat_minor": 0,
  "metadata": {
    "colab": {
      "provenance": [],
      "authorship_tag": "ABX9TyP2gtuk23vTIAAnjLG5Cpyw",
      "include_colab_link": true
    },
    "kernelspec": {
      "name": "python3",
      "display_name": "Python 3"
    },
    "language_info": {
      "name": "python"
    }
  },
  "cells": [
    {
      "cell_type": "markdown",
      "metadata": {
        "id": "view-in-github",
        "colab_type": "text"
      },
      "source": [
        "<a href=\"https://colab.research.google.com/github/sinku247/MSML/blob/main/ML_keras_03.ipynb\" target=\"_parent\"><img src=\"https://colab.research.google.com/assets/colab-badge.svg\" alt=\"Open In Colab\"/></a>"
      ]
    },
    {
      "cell_type": "code",
      "execution_count": 2,
      "metadata": {
        "colab": {
          "base_uri": "https://localhost:8080/"
        },
        "id": "2K5DEdVljzeZ",
        "outputId": "0c2a1db3-ad75-4f22-b1a1-1fb72e1ea34a"
      },
      "outputs": [
        {
          "output_type": "stream",
          "name": "stdout",
          "text": [
            "Downloading data from https://storage.googleapis.com/tensorflow/tf-keras-datasets/reuters.npz\n",
            "2110848/2110848 [==============================] - 0s 0us/step\n"
          ]
        }
      ],
      "source": [
        "from keras.datasets import reuters\n",
        "(train_data, train_labels),(test_data, test_labels) = reuters.load_data(num_words=10000)"
      ]
    },
    {
      "cell_type": "code",
      "source": [
        "print(train_data.shape)\n",
        "print(test_data.shape)"
      ],
      "metadata": {
        "colab": {
          "base_uri": "https://localhost:8080/"
        },
        "id": "wlXxqbWknYrM",
        "outputId": "d4bc8fc3-64d7-48f4-eccb-08f1445988f1"
      },
      "execution_count": 3,
      "outputs": [
        {
          "output_type": "stream",
          "name": "stdout",
          "text": [
            "(8982,)\n",
            "(2246,)\n"
          ]
        }
      ]
    },
    {
      "cell_type": "code",
      "source": [
        "import numpy as np\n",
        "\n",
        "def vectorize_sequences(sequences, dimension=10000):\n",
        "  results = np.zeros((len(sequences), dimension))\n",
        "\n",
        "  for i, sequence in enumerate(sequences):\n",
        "    results[i, sequence] = 1\n",
        "  \n",
        "  return results"
      ],
      "metadata": {
        "id": "5f1g1abSnc3W"
      },
      "execution_count": 4,
      "outputs": []
    },
    {
      "cell_type": "code",
      "source": [
        "# 훈련데이터와 테스트 데이터의 벡터 변환 \n",
        "x_train = vectorize_sequences(train_data)\n",
        "x_test = vectorize_sequences(test_data)"
      ],
      "metadata": {
        "id": "ifDca9ORosP5"
      },
      "execution_count": 6,
      "outputs": []
    },
    {
      "cell_type": "code",
      "source": [
        "# 라벨 데이터를 카테고리 데이터로 전환 \n",
        "from keras.utils.np_utils import to_categorical\n",
        "\n",
        "one_hot_train_labels = to_categorical(train_labels)\n",
        "one_hot_test_labels = to_categorical(test_labels)"
      ],
      "metadata": {
        "id": "gY4G0WuqqjNl"
      },
      "execution_count": 7,
      "outputs": []
    },
    {
      "cell_type": "code",
      "source": [
        "# 모델 구성\n",
        "from keras import models\n",
        "from keras import layers\n",
        "\n",
        "model = models.Sequential()\n",
        "model.add(layers.Dense(64, activation='relu', input_shape=(10000,)))\n",
        "model.add(layers.Dense(64, activation='relu'))\n",
        "model.add(layers.Dense(46, activation='softmax'))"
      ],
      "metadata": {
        "id": "dZ2M_TMLFkAV"
      },
      "execution_count": 8,
      "outputs": []
    },
    {
      "cell_type": "code",
      "source": [
        "model.compile(optimizer='rmsprop',\n",
        "             loss='categorical_crossentropy',\n",
        "             metrics=['accuracy'])"
      ],
      "metadata": {
        "id": "KybFusOmFl1k"
      },
      "execution_count": 9,
      "outputs": []
    },
    {
      "cell_type": "code",
      "source": [
        "x_val = x_train[:1000]\n",
        "partial_x_train = x_train[1000:]\n",
        "y_val = one_hot_train_labels[:1000]\n",
        "partial_y_train = one_hot_train_labels[1000:]"
      ],
      "metadata": {
        "id": "0r1hGgeTFmog"
      },
      "execution_count": 10,
      "outputs": []
    },
    {
      "cell_type": "code",
      "source": [
        "history = model.fit(partial_x_train, \n",
        "                    partial_y_train,\n",
        "                    epochs=20,\n",
        "                    batch_size=512,\n",
        "                    validation_data=(x_val, y_val))"
      ],
      "metadata": {
        "colab": {
          "base_uri": "https://localhost:8080/"
        },
        "id": "i1cMHN0uFpOF",
        "outputId": "b49cdf63-e59d-4ca8-8110-a656b3fedde2"
      },
      "execution_count": 11,
      "outputs": [
        {
          "output_type": "stream",
          "name": "stdout",
          "text": [
            "Epoch 1/20\n",
            "16/16 [==============================] - 2s 72ms/step - loss: 2.8055 - accuracy: 0.4761 - val_loss: 1.8781 - val_accuracy: 0.6340\n",
            "Epoch 2/20\n",
            "16/16 [==============================] - 1s 49ms/step - loss: 1.5990 - accuracy: 0.6731 - val_loss: 1.4078 - val_accuracy: 0.6930\n",
            "Epoch 3/20\n",
            "16/16 [==============================] - 1s 48ms/step - loss: 1.2297 - accuracy: 0.7344 - val_loss: 1.2167 - val_accuracy: 0.7280\n",
            "Epoch 4/20\n",
            "16/16 [==============================] - 1s 44ms/step - loss: 1.0033 - accuracy: 0.7844 - val_loss: 1.1155 - val_accuracy: 0.7530\n",
            "Epoch 5/20\n",
            "16/16 [==============================] - 1s 45ms/step - loss: 0.8368 - accuracy: 0.8167 - val_loss: 1.0302 - val_accuracy: 0.7770\n",
            "Epoch 6/20\n",
            "16/16 [==============================] - 1s 46ms/step - loss: 0.6941 - accuracy: 0.8483 - val_loss: 0.9946 - val_accuracy: 0.7790\n",
            "Epoch 7/20\n",
            "16/16 [==============================] - 1s 47ms/step - loss: 0.5777 - accuracy: 0.8756 - val_loss: 0.9231 - val_accuracy: 0.8070\n",
            "Epoch 8/20\n",
            "16/16 [==============================] - 1s 45ms/step - loss: 0.4853 - accuracy: 0.8978 - val_loss: 0.9075 - val_accuracy: 0.8060\n",
            "Epoch 9/20\n",
            "16/16 [==============================] - 1s 47ms/step - loss: 0.4056 - accuracy: 0.9137 - val_loss: 0.8769 - val_accuracy: 0.8150\n",
            "Epoch 10/20\n",
            "16/16 [==============================] - 1s 46ms/step - loss: 0.3476 - accuracy: 0.9258 - val_loss: 0.8819 - val_accuracy: 0.8130\n",
            "Epoch 11/20\n",
            "16/16 [==============================] - 1s 45ms/step - loss: 0.3003 - accuracy: 0.9350 - val_loss: 0.8668 - val_accuracy: 0.8230\n",
            "Epoch 12/20\n",
            "16/16 [==============================] - 1s 44ms/step - loss: 0.2621 - accuracy: 0.9424 - val_loss: 0.8777 - val_accuracy: 0.8170\n",
            "Epoch 13/20\n",
            "16/16 [==============================] - 1s 46ms/step - loss: 0.2275 - accuracy: 0.9463 - val_loss: 0.8879 - val_accuracy: 0.8160\n",
            "Epoch 14/20\n",
            "16/16 [==============================] - 1s 69ms/step - loss: 0.2124 - accuracy: 0.9486 - val_loss: 0.9074 - val_accuracy: 0.8110\n",
            "Epoch 15/20\n",
            "16/16 [==============================] - 1s 88ms/step - loss: 0.1872 - accuracy: 0.9521 - val_loss: 0.9189 - val_accuracy: 0.8120\n",
            "Epoch 16/20\n",
            "16/16 [==============================] - 1s 63ms/step - loss: 0.1740 - accuracy: 0.9535 - val_loss: 0.9093 - val_accuracy: 0.8140\n",
            "Epoch 17/20\n",
            "16/16 [==============================] - 1s 47ms/step - loss: 0.1595 - accuracy: 0.9559 - val_loss: 0.9068 - val_accuracy: 0.8200\n",
            "Epoch 18/20\n",
            "16/16 [==============================] - 1s 46ms/step - loss: 0.1524 - accuracy: 0.9543 - val_loss: 0.9320 - val_accuracy: 0.8240\n",
            "Epoch 19/20\n",
            "16/16 [==============================] - 1s 46ms/step - loss: 0.1393 - accuracy: 0.9555 - val_loss: 0.9256 - val_accuracy: 0.8210\n",
            "Epoch 20/20\n",
            "16/16 [==============================] - 1s 46ms/step - loss: 0.1353 - accuracy: 0.9560 - val_loss: 0.9215 - val_accuracy: 0.8240\n"
          ]
        }
      ]
    },
    {
      "cell_type": "code",
      "source": [
        "import matplotlib.pyplot as plt"
      ],
      "metadata": {
        "id": "0SVjFo5CF5XX"
      },
      "execution_count": 12,
      "outputs": []
    },
    {
      "cell_type": "code",
      "source": [
        "loss = history.history['loss']\n",
        "val_loss = history.history['val_loss']\n",
        "acc = history.history['accuracy']\n",
        "val_acc = history.history['val_accuracy']"
      ],
      "metadata": {
        "id": "ObOlSl1SF9v9"
      },
      "execution_count": 14,
      "outputs": []
    },
    {
      "cell_type": "code",
      "source": [
        "epochs = range(1, len(loss)+1)\n",
        "plt.plot(epochs,loss, 'bo',label='Training loss')\n",
        "plt.plot(epochs,val_loss,'r-',label='Validation loss')\n",
        "plt.title('Training and validation loss')\n",
        "plt.xlabel('Epochs')\n",
        "plt.ylabel('Loss')\n",
        "plt.legend()"
      ],
      "metadata": {
        "colab": {
          "base_uri": "https://localhost:8080/",
          "height": 490
        },
        "id": "fBOmDKHYGXxQ",
        "outputId": "9b1b39e9-12d6-40c9-a263-05dcbc92876b"
      },
      "execution_count": 15,
      "outputs": [
        {
          "output_type": "execute_result",
          "data": {
            "text/plain": [
              "<matplotlib.legend.Legend at 0x7fb68a515ed0>"
            ]
          },
          "metadata": {},
          "execution_count": 15
        },
        {
          "output_type": "display_data",
          "data": {
            "text/plain": [
              "<Figure size 640x480 with 1 Axes>"
            ],
            "image/png": "[encoded data removed]"
          },
          "metadata": {}
        }
      ]
    },
    {
      "cell_type": "code",
      "source": [
        "plt.plot(epochs, acc, 'bo', label='Training accuracy')\n",
        "plt.plot(epochs, val_acc, 'r-', label='Validation accuracy')\n",
        "plt.title('Training and validation accuracy')\n",
        "plt.xlabel('Epochs')\n",
        "plt.ylabel('Accuracy')\n",
        "plt.legend()"
      ],
      "metadata": {
        "colab": {
          "base_uri": "https://localhost:8080/",
          "height": 490
        },
        "id": "Ci6CRM3kIVra",
        "outputId": "cecd71fa-eeff-49ae-ee0c-aa76dbcbecee"
      },
      "execution_count": 16,
      "outputs": [
        {
          "output_type": "execute_result",
          "data": {
            "text/plain": [
              "<matplotlib.legend.Legend at 0x7fb68b872860>"
            ]
          },
          "metadata": {},
          "execution_count": 16
        },
        {
          "output_type": "display_data",
          "data": {
            "text/plain": [
              "<Figure size 640x480 with 1 Axes>"
            ],
            "image/png": "[encoded data removed]"
          },
          "metadata": {}
        }
      ]
    },
    {
      "cell_type": "code",
      "source": [],
      "metadata": {
        "id": "AJ8Q1gXdLjRV"
      },
      "execution_count": null,
      "outputs": []
    },
    {
      "cell_type": "code",
      "source": [
        "# 검증 된 결과로 다시 학습 \n",
        "\n",
        "model = models.Sequential()\n",
        "model.add(layers.Dense(64, activation='relu', input_shape=(10000,)))\n",
        "model.add(layers.Dense(64, activation='relu'))\n",
        "model.add(layers.Dense(46, activation='softmax'))\n",
        "\n",
        "model.compile(optimizer='rmsprop',\n",
        "             loss='categorical_crossentropy',\n",
        "             metrics=['accuracy'])\n",
        "\n",
        "history = model.fit(partial_x_train, \n",
        "                    partial_y_train,\n",
        "                    epochs=10,\n",
        "                    batch_size=512,\n",
        "                    validation_data=(x_val, y_val))\n",
        "\n",
        "eval_result = model.evaluate(x_test, one_hot_test_labels)\n",
        "print(eval_result)"
      ],
      "metadata": {
        "colab": {
          "base_uri": "https://localhost:8080/"
        },
        "id": "AfxBCbkFLVkB",
        "outputId": "bbd956e1-206d-4c2b-bb44-b89582f1f5b9"
      },
      "execution_count": 17,
      "outputs": [
        {
          "output_type": "stream",
          "name": "stdout",
          "text": [
            "Epoch 1/10\n",
            "16/16 [==============================] - 2s 98ms/step - loss: 2.6854 - accuracy: 0.5054 - val_loss: 1.8007 - val_accuracy: 0.6200\n",
            "Epoch 2/10\n",
            "16/16 [==============================] - 1s 88ms/step - loss: 1.5195 - accuracy: 0.6761 - val_loss: 1.3862 - val_accuracy: 0.6930\n",
            "Epoch 3/10\n",
            "16/16 [==============================] - 1s 63ms/step - loss: 1.1696 - accuracy: 0.7398 - val_loss: 1.1949 - val_accuracy: 0.7290\n",
            "Epoch 4/10\n",
            "16/16 [==============================] - 1s 49ms/step - loss: 0.9680 - accuracy: 0.7883 - val_loss: 1.0901 - val_accuracy: 0.7600\n",
            "Epoch 5/10\n",
            "16/16 [==============================] - 1s 46ms/step - loss: 0.8060 - accuracy: 0.8276 - val_loss: 1.0040 - val_accuracy: 0.7910\n",
            "Epoch 6/10\n",
            "16/16 [==============================] - 1s 48ms/step - loss: 0.6786 - accuracy: 0.8564 - val_loss: 0.9483 - val_accuracy: 0.8000\n",
            "Epoch 7/10\n",
            "16/16 [==============================] - 1s 45ms/step - loss: 0.5680 - accuracy: 0.8796 - val_loss: 0.9182 - val_accuracy: 0.7990\n",
            "Epoch 8/10\n",
            "16/16 [==============================] - 1s 47ms/step - loss: 0.4774 - accuracy: 0.8978 - val_loss: 0.8789 - val_accuracy: 0.8200\n",
            "Epoch 9/10\n",
            "16/16 [==============================] - 1s 45ms/step - loss: 0.4062 - accuracy: 0.9138 - val_loss: 0.8616 - val_accuracy: 0.8150\n",
            "Epoch 10/10\n",
            "16/16 [==============================] - 1s 47ms/step - loss: 0.3495 - accuracy: 0.9275 - val_loss: 0.9061 - val_accuracy: 0.7970\n",
            "71/71 [==============================] - 0s 3ms/step - loss: 0.9767 - accuracy: 0.7814\n",
            "[0.9766503572463989, 0.7813891172409058]\n"
          ]
        }
      ]
    },
    {
      "cell_type": "code",
      "source": [],
      "metadata": {
        "id": "oOhjGvL7LVxG"
      },
      "execution_count": null,
      "outputs": []
    }
  ]
}